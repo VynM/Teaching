{
 "cells": [
  {
   "cell_type": "markdown",
   "metadata": {},
   "source": [
    "## Test 1: Sem. III ICT(A) – Solutions"
   ]
  },
  {
   "cell_type": "code",
   "execution_count": 1,
   "metadata": {},
   "outputs": [],
   "source": [
    ":l Permutations\n",
    "import Permutations\n",
    "import Data.List\n",
    "\n",
    "factBase 1 k = [k]\n",
    "factBase n k = div k (fact n) : factBase (n - 1) (mod k $ fact n)"
   ]
  },
  {
   "cell_type": "markdown",
   "metadata": {},
   "source": [
    "---"
   ]
  },
  {
   "cell_type": "markdown",
   "metadata": {},
   "source": [
    "### 1a. Find the <span style=\"color:#5050ff\">$106$<sup>th</sup></span> permutation of <span style=\"color:#30c030\"> $0, 1, 2, 3, 4$</span> in <span style=\"color:#ff5050\">lexicographical order</span>."
   ]
  },
  {
   "cell_type": "code",
   "execution_count": 2,
   "metadata": {},
   "outputs": [
    {
     "data": {
      "text/plain": [
       "The sequence is 4111."
      ]
     },
     "metadata": {},
     "output_type": "display_data"
    },
    {
     "data": {
      "text/plain": [
       "The 106th permutation is 41230."
      ]
     },
     "metadata": {},
     "output_type": "display_data"
    }
   ],
   "source": [
    "putStrLn $ \"The sequence is \" ++ concatMap show (factBase 4 (106 - 1)) ++ \".\"\n",
    "putStrLn $ \"The 106th permutation is \" ++ concatMap show (lexPerm 106 [0..4]) ++ \".\""
   ]
  },
  {
   "cell_type": "markdown",
   "metadata": {},
   "source": [
    "### 1b. Find the number of strings that can be formed using <span style=\"color:#5050ff\">$2$</span> `A`s, <span style=\"color:#5050ff\">$3$</span> `B`s, <span style=\"color:#5050ff\">$2$</span> `C`s, and <span style=\"color:#5050ff\">$1$</span> `E`, if <span style=\"color:#ff5050\">all vowels must be non-adjacent</span>."
   ]
  },
  {
   "cell_type": "code",
   "execution_count": 3,
   "metadata": {},
   "outputs": [
    {
     "data": {
      "text/plain": [
       "600"
      ]
     },
     "metadata": {},
     "output_type": "display_data"
    }
   ],
   "source": [
    "length $ filter (\\str -> not $ \"aa\" `isInfixOf` str ||  \"ae\" `isInfixOf` str || \"ea\" `isInfixOf` str) $ anagrams \"aabbbcce\""
   ]
  },
  {
   "cell_type": "markdown",
   "metadata": {},
   "source": [
    "Since the three vowels must be non-adjacent, the string must be in the form `_V_V_V_` where the two spaces in the middle contain at least one consonant each, so we have `_VC_VC_V_`. Now the remaining three consonants must be inserted into one, two, or three of the four spaces. This can be done in $4 + 2 \\times \\binom 4 2 + \\binom 4 3 = 20$ ways.\n",
    "\n",
    "Now, once the vowel-consonant pattern is determined, we place the vowels and consonants according to the pattern, and the number of ways of doing this is the number of permutations of the vowels amongst themselves multiplied by the number of permutations of the consonants amongst themselves. That is, $\\dfrac{3!}{2!} \\times \\dfrac{5!}{3!2!} = 30$. Thus, the total number of strings is $\\boxed{20 \\times 30 = 600}$."
   ]
  },
  {
   "cell_type": "code",
   "execution_count": 4,
   "metadata": {},
   "outputs": [
    {
     "data": {
      "text/plain": [
       "The number of vowel-consonant patterns with vowels non-adjacent is 20."
      ]
     },
     "metadata": {},
     "output_type": "display_data"
    },
    {
     "data": {
      "text/plain": [
       "The number of permutations the three vowels amongst themselves is 3."
      ]
     },
     "metadata": {},
     "output_type": "display_data"
    },
    {
     "data": {
      "text/plain": [
       "The number of permutations the five consonants amongst themselves is 10."
      ]
     },
     "metadata": {},
     "output_type": "display_data"
    }
   ],
   "source": [
    "vcs = filter (not . (\"vv\" `isInfixOf`)) $ anagrams \"vvvccccc\"\n",
    "putStrLn $ \"The number of vowel-consonant patterns with vowels non-adjacent is \" ++ show (length vcs) ++ \".\"\n",
    "putStrLn $ \"The number of permutations the three vowels amongst themselves is \" ++ show (length $ anagrams \"aae\") ++ \".\"\n",
    "putStrLn $ \"The number of permutations the five consonants amongst themselves is \" ++ show (length $ anagrams \"bbbcc\") ++ \".\""
   ]
  },
  {
   "cell_type": "markdown",
   "metadata": {},
   "source": [
    "---"
   ]
  },
  {
   "cell_type": "markdown",
   "metadata": {},
   "source": [
    "### 2a. Find the <span style=\"color:#5050ff\">$86$<sup>th</sup></span> permutation of <span style=\"color:#30c030\">$1, 2, 3, 4, 5$</span> in <span style=\"color:#ff5050\">reverse lexicographical order</span>."
   ]
  },
  {
   "cell_type": "code",
   "execution_count": 5,
   "metadata": {},
   "outputs": [
    {
     "data": {
      "text/plain": [
       "The sequence is 3201."
      ]
     },
     "metadata": {},
     "output_type": "display_data"
    },
    {
     "data": {
      "text/plain": [
       "Reverse the given marks: 54321."
      ]
     },
     "metadata": {},
     "output_type": "display_data"
    },
    {
     "data": {
      "text/plain": [
       "Apply the sequence to get 23514 and reverse the result."
      ]
     },
     "metadata": {},
     "output_type": "display_data"
    },
    {
     "data": {
      "text/plain": [
       "The 86th permutation is 41532."
      ]
     },
     "metadata": {},
     "output_type": "display_data"
    }
   ],
   "source": [
    "marks = [1..5]\n",
    "putStrLn $ \"The sequence is \" ++ concatMap show (factBase 4 (86 - 1)) ++ \".\"\n",
    "putStrLn $ \"Reverse the given marks: \" ++ concatMap show (reverse marks) ++ \".\"\n",
    "putStrLn $ \"Apply the sequence to get \" ++ concatMap show (lexPerm 86 $ reverse marks) ++ \" and reverse the result.\"\n",
    "putStrLn $ \"The 86th permutation is \" ++ concatMap show (revLexPerm 86 marks) ++ \".\""
   ]
  },
  {
   "cell_type": "markdown",
   "metadata": {},
   "source": [
    "### 2b. Find the number of ways of putting <span style=\"color:#5050ff\">$4$</span> red marbles and <span style=\"color:#5050ff\">$4$</span> marbles having four other colours in <span style=\"color:#30c030\">$4$</span> different boxes if each box must have <span style=\"color:#ff5050\">$2$</span> marbles."
   ]
  },
  {
   "cell_type": "markdown",
   "metadata": {},
   "source": [
    "The red marbles can be distributed in essentially three different ways:\n",
    "1. All in different boxes (one in each box) $(1,1,1,1)$. There is only one way of doing this.  \n",
    " In this case, the other four marbles can be distributed in $4!$ different ways.\n",
    "2. Two red marbles in the same box and the other two in two different boxes $(2,1,1)$. This can be done in $\\binom 4 3$ ways.  \n",
    " In this case, the other four marbles can be distributed in $4 \\times 3 = 12$ ways.\n",
    "3. Two red marbles in one box, the other two in another box $(2,2)$. This can be done in $\\binom 4 2$ ways.  \n",
    " In this case, the other four marbles can be distributed in $\\binom 4 2$ ways.\n",
    "\n",
    "Thus, the total number of distributions is $$4! + \\binom 4 3 \\times 12 + {\\binom 4 2}^2.$$"
   ]
  },
  {
   "cell_type": "code",
   "execution_count": 6,
   "metadata": {},
   "outputs": [
    {
     "data": {
      "text/plain": [
       "Answer: 108"
      ]
     },
     "metadata": {},
     "output_type": "display_data"
    }
   ],
   "source": [
    "putStrLn $ \"Answer: \" ++ show (fact 4 + 4 `comb` 3 * 12 + 4 `comb` 2 ^ 2)"
   ]
  },
  {
   "cell_type": "markdown",
   "metadata": {},
   "source": [
    "---"
   ]
  },
  {
   "cell_type": "markdown",
   "metadata": {},
   "source": [
    "### 3a. Find the <span style=\"color:#5050ff\">$118$<sup>th</sup></span> permutation of <span style=\"color:#30c030\">$1, 2, 3, 4, 5$</span> in <span style=\"color:#ff5050\">Fike's order</span>."
   ]
  },
  {
   "cell_type": "code",
   "execution_count": 7,
   "metadata": {},
   "outputs": [
    {
     "data": {
      "text/plain": [
       "The sequence is 0002."
      ]
     },
     "metadata": {},
     "output_type": "display_data"
    },
    {
     "data": {
      "text/plain": [
       "The 118th permutation is 41532."
      ]
     },
     "metadata": {},
     "output_type": "display_data"
    }
   ],
   "source": [
    "putStrLn $ \"The sequence is \" ++ concatMap show (fikeSeq 118 5) ++ \".\"\n",
    "putStrLn $ \"The 118th permutation is \" ++ concatMap show (fikePerm 118 [1..5]) ++ \".\""
   ]
  },
  {
   "cell_type": "markdown",
   "metadata": {},
   "source": [
    "### 3b. In an MCQ paper with <span style=\"color:#5050ff\">$10$</span> questions, and <span style=\"color:#5050ff\">$4$</span> choices for each answer, find the number of ways of ordering the choices such that consecutive questions do not have the same option as their answers."
   ]
  },
  {
   "cell_type": "markdown",
   "metadata": {},
   "source": [
    "The first question's answer can be any one of the $4$ choices. Once this is determined, the second question's answer can be any of the other $3$ choices. Now, for each of the remaining questions, the same reasoning applies, so the total number of ways of ordering the choices $$\\boxed{4 \\times 3 \\times \\cdots \\times = 4 \\times 3^9}.$$"
   ]
  },
  {
   "cell_type": "code",
   "execution_count": 8,
   "metadata": {},
   "outputs": [
    {
     "data": {
      "text/plain": [
       "78732"
      ]
     },
     "metadata": {},
     "output_type": "display_data"
    }
   ],
   "source": [
    "4 * 3^9"
   ]
  },
  {
   "cell_type": "markdown",
   "metadata": {},
   "source": [
    "---"
   ]
  },
  {
   "cell_type": "markdown",
   "metadata": {},
   "source": [
    "### 4a. Find the <span style=\"color:#5050ff\">$106$<sup>th</sup></span> permutation of <span style=\"color:#30c030\">$0, 1, 2, 3, 4$</span> in <span style=\"color:#ff5050\">reverse lexicographical order</span>."
   ]
  },
  {
   "cell_type": "code",
   "execution_count": 9,
   "metadata": {},
   "outputs": [
    {
     "data": {
      "text/plain": [
       "The sequence is 4111."
      ]
     },
     "metadata": {},
     "output_type": "display_data"
    },
    {
     "data": {
      "text/plain": [
       "Reverse the given marks: 43210."
      ]
     },
     "metadata": {},
     "output_type": "display_data"
    },
    {
     "data": {
      "text/plain": [
       "Apply the sequence to get 03214 and reverse the result."
      ]
     },
     "metadata": {},
     "output_type": "display_data"
    },
    {
     "data": {
      "text/plain": [
       "The 106th permutation is 41230."
      ]
     },
     "metadata": {},
     "output_type": "display_data"
    }
   ],
   "source": [
    "marks = ['0'..'4']\n",
    "putStrLn $ \"The sequence is \" ++ concatMap show (factBase 4 (106 - 1)) ++ \".\"\n",
    "putStrLn $ \"Reverse the given marks: \" ++ reverse marks ++ \".\"\n",
    "putStrLn $ \"Apply the sequence to get \" ++ lexPerm 106 (reverse marks) ++ \" and reverse the result.\"\n",
    "putStrLn $ \"The 106th permutation is \" ++ revLexPerm 106 marks ++ \".\""
   ]
  },
  {
   "cell_type": "markdown",
   "metadata": {},
   "source": [
    "### 4b. Find the number of integers between <span style=\"color:#5050ff\">$1$</span> and <span style=\"color:#5050ff\">$100,000$</span> that have <span style=\"color:#30c030\">$10$</span> as the sum of their digits."
   ]
  },
  {
   "cell_type": "code",
   "execution_count": 10,
   "metadata": {},
   "outputs": [
    {
     "data": {
      "text/plain": [
       "996"
      ]
     },
     "metadata": {},
     "output_type": "display_data"
    }
   ],
   "source": [
    "digits = reverse . unfoldr (\\n -> if n == 0 then Nothing else Just (mod n 10, div n 10))\n",
    "length $ filter ((== 10) . sum . digits) [1..10^5]"
   ]
  },
  {
   "cell_type": "markdown",
   "metadata": {},
   "source": [
    "The maximum number of digits that an integer between $1$ and $100,000$ can have is five. Consider each digit of the integer as a box with as many objects as the value of the digit. Then the problem is equivalent to distributing $10$ identical objects into $5$ distinct boxes such that each box has at most $9$ objects (since the value of a digit cannot be greater than $9$). The total number of distributions without this restriction is $$\\binom{10 + 5 - 1}{10}.$$ The only way for a box to contain more than $9$ objects is if it has exactly $10$ objects and all the other boxes have $0$ objects. The number of such distributions is $5$ (since we merely have to select one of the five boxes and place all $10$ objects in it). Thus, the number of integers in the given range with sum of digits $10$ is $$\\binom{10 + 5 - 1}{10} - 5.$$"
   ]
  },
  {
   "cell_type": "code",
   "execution_count": 11,
   "metadata": {},
   "outputs": [
    {
     "data": {
      "text/plain": [
       "996"
      ]
     },
     "metadata": {},
     "output_type": "display_data"
    }
   ],
   "source": [
    "comb (10 + 5 - 1) 10 - 5"
   ]
  },
  {
   "cell_type": "markdown",
   "metadata": {},
   "source": [
    "---"
   ]
  },
  {
   "cell_type": "markdown",
   "metadata": {},
   "source": [
    "### 5a. Find the <span style=\"color:#5050ff\">$60$<sup>th</sup></span> permutation of <span style=\"color:#30c030\">$1, 2, 3, 4, 5$</span> in <span style=\"color:#ff5050\">Fike's order</span>."
   ]
  },
  {
   "cell_type": "code",
   "execution_count": 12,
   "metadata": {},
   "outputs": [
    {
     "data": {
      "text/plain": [
       "The sequence is 1000."
      ]
     },
     "metadata": {},
     "output_type": "display_data"
    },
    {
     "data": {
      "text/plain": [
       "The 60th permutation is 52134."
      ]
     },
     "metadata": {},
     "output_type": "display_data"
    }
   ],
   "source": [
    "putStrLn $ \"The sequence is \" ++ concatMap show (fikeSeq 60 5) ++ \".\"\n",
    "putStrLn $ \"The 60th permutation is \" ++ concatMap show (fikePerm 60 [1..5]) ++ \".\""
   ]
  },
  {
   "cell_type": "markdown",
   "metadata": {},
   "source": [
    "### 5b. Find the number of positive common factors of <span style=\"color:#5050ff\">$1800$</span> and <span style=\"color:#5050ff\">$2700$</span>."
   ]
  },
  {
   "cell_type": "code",
   "execution_count": 13,
   "metadata": {},
   "outputs": [
    {
     "data": {
      "text/plain": [
       "27"
      ]
     },
     "metadata": {},
     "output_type": "display_data"
    }
   ],
   "source": [
    "length $ filter (\\n -> 1800 `mod` n == 0 && 2700 `mod` n == 0) [1..1800]"
   ]
  },
  {
   "cell_type": "code",
   "execution_count": 14,
   "metadata": {},
   "outputs": [
    {
     "data": {
      "text/plain": [
       "[2,2,2,3,3,5,5]"
      ]
     },
     "metadata": {},
     "output_type": "display_data"
    },
    {
     "data": {
      "text/plain": [
       "[2,2,3,3,3,5,5]"
      ]
     },
     "metadata": {},
     "output_type": "display_data"
    }
   ],
   "source": [
    "factorise 1 = []\n",
    "factorise n = d : factorise (div n d) where\n",
    "    d = head $ filter (\\d -> mod n d == 0) [2..]\n",
    "\n",
    "print $ factorise 1800\n",
    "print $ factorise 2700"
   ]
  },
  {
   "cell_type": "markdown",
   "metadata": {},
   "source": [
    "Since $1800 = 2^3 \\times 3^2 \\times 5^2$ and $2700 = 2^2 \\times 3^3 \\times 5^2$, any common factor of $1800$ and $2700$ must be of the form $2^a \\times 3^b \\times 5^c$ where $0 \\le a, b, c \\le 2$.\n",
    "\n",
    "Since each of $a$, $b$, and $c$ independently have three possible values, the total number of possibilities is $\\boxed{3^3 = 27}$."
   ]
  }
 ],
 "metadata": {
  "kernelspec": {
   "display_name": "Haskell",
   "language": "haskell",
   "name": "haskell"
  },
  "language_info": {
   "codemirror_mode": "ihaskell",
   "file_extension": ".hs",
   "name": "haskell",
   "pygments_lexer": "Haskell",
   "version": "8.6.5"
  }
 },
 "nbformat": 4,
 "nbformat_minor": 2
}
