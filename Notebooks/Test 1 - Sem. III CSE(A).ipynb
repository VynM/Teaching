{
 "cells": [
  {
   "cell_type": "markdown",
   "metadata": {},
   "source": [
    "## Test 1: Sem. III CSE(A) – Solutions"
   ]
  },
  {
   "cell_type": "code",
   "execution_count": 1,
   "metadata": {},
   "outputs": [],
   "source": [
    ":l Permutations\n",
    "import Permutations\n",
    "import Data.List\n",
    "\n",
    "factBase 1 k = [k]\n",
    "factBase n k = div k (fact n) : factBase (n - 1) (mod k $ fact n)"
   ]
  },
  {
   "cell_type": "markdown",
   "metadata": {},
   "source": [
    "---"
   ]
  },
  {
   "cell_type": "markdown",
   "metadata": {},
   "source": [
    "### 1a. Find the <span style=\"color:#5050ff\">$111$<sup>th</sup></span> permutation of <span style=\"color:#30c030\"> $0, 1, 2, 3, 4$</span> in <span style=\"color:#ff5050\">lexicographical order</span>."
   ]
  },
  {
   "cell_type": "code",
   "execution_count": 2,
   "metadata": {},
   "outputs": [
    {
     "data": {
      "text/plain": [
       "The sequence is 4210."
      ]
     },
     "metadata": {},
     "output_type": "display_data"
    },
    {
     "data": {
      "text/plain": [
       "The 111th permutation is 42103."
      ]
     },
     "metadata": {},
     "output_type": "display_data"
    }
   ],
   "source": [
    "putStrLn $ \"The sequence is \" ++ concatMap show (factBase 4 (111 - 1)) ++ \".\"\n",
    "putStrLn $ \"The 111th permutation is \" ++ concatMap show (lexPerm 111 [0..4]) ++ \".\""
   ]
  },
  {
   "cell_type": "markdown",
   "metadata": {},
   "source": [
    "### 1b. Enumerate the anagrams of `GUERRERO` in which the two `E`s are separated by <span style=\"color:#ff5050\">at least two</span> letters."
   ]
  },
  {
   "cell_type": "code",
   "execution_count": 3,
   "metadata": {},
   "outputs": [
    {
     "data": {
      "text/plain": [
       "Total number of anagrams = 3360"
      ]
     },
     "metadata": {},
     "output_type": "display_data"
    },
    {
     "data": {
      "text/plain": [
       "Number of anagrams with Es separated by at least two letters = 1800"
      ]
     },
     "metadata": {},
     "output_type": "display_data"
    }
   ],
   "source": [
    "streets = anagrams \"guerrero\"\n",
    "diffEE street = j - i where [i,j] = elemIndices 'e' street\n",
    "hosps = filter ((> 2) . diffEE) streets\n",
    "\n",
    "putStrLn $ \"Total number of anagrams = \" ++ show (length streets)\n",
    "putStrLn $ \"Number of anagrams with Es separated by at least two letters = \" ++ show (length hosps)"
   ]
  },
  {
   "cell_type": "code",
   "execution_count": 4,
   "metadata": {},
   "outputs": [
    {
     "data": {
      "text/plain": [
       "8"
      ]
     },
     "metadata": {},
     "output_type": "display_data"
    },
    {
     "data": {
      "text/plain": [
       "[1,1,2,3,1]"
      ]
     },
     "metadata": {},
     "output_type": "display_data"
    },
    {
     "data": {
      "text/plain": [
       "3360"
      ]
     },
     "metadata": {},
     "output_type": "display_data"
    }
   ],
   "source": [
    "print $ length \"guerrero\"\n",
    "print $ map length $ Permutations.group \"guerrero\"\n",
    "print $ fact 8 `div` (fact 2 * fact 3)"
   ]
  },
  {
   "cell_type": "markdown",
   "metadata": {},
   "source": [
    "The total number of anagrams of `GUERRERO` is $\\dfrac{8!}{2! 3!} = 3360$.  \n",
    "The number of anagrams in which the two `E`s are adjacent is $\\dfrac{7!}{3!}$.  \n",
    "The number of anagrams in which the two `E`s have exactly one letter between them is $6 \\times \\dfrac{6!}{3!}$.\n",
    "\n",
    "Therefore, the number of anagrams in which the two `E`s have at least two letters between them is $3360 - \\dfrac{7!}{3!} - 6 \\times \\dfrac{6!}{3!}$."
   ]
  },
  {
   "cell_type": "code",
   "execution_count": 5,
   "metadata": {},
   "outputs": [
    {
     "data": {
      "text/plain": [
       "Answer: 1800"
      ]
     },
     "metadata": {},
     "output_type": "display_data"
    }
   ],
   "source": [
    "putStrLn $ \"Answer: \" ++ show (3360 - fact 7 `div` fact 3 - 6 * fact 6 `div` fact 3)"
   ]
  },
  {
   "cell_type": "markdown",
   "metadata": {},
   "source": [
    "---"
   ]
  },
  {
   "cell_type": "markdown",
   "metadata": {},
   "source": [
    "### 2a. Find the <span style=\"color:#5050ff\">$96$<sup>th</sup></span> permutation of <span style=\"color:#30c030\">$a, b, c, d, e$</span> in <span style=\"color:#ff5050\">reverse lexicographical order</span>."
   ]
  },
  {
   "cell_type": "code",
   "execution_count": 6,
   "metadata": {},
   "outputs": [
    {
     "data": {
      "text/plain": [
       "The sequence is 3321."
      ]
     },
     "metadata": {},
     "output_type": "display_data"
    },
    {
     "data": {
      "text/plain": [
       "Reverse the given marks: edcba."
      ]
     },
     "metadata": {},
     "output_type": "display_data"
    },
    {
     "data": {
      "text/plain": [
       "Apply the sequence to get bacde and reverse the result."
      ]
     },
     "metadata": {},
     "output_type": "display_data"
    },
    {
     "data": {
      "text/plain": [
       "The 96th permutation is edcab."
      ]
     },
     "metadata": {},
     "output_type": "display_data"
    }
   ],
   "source": [
    "marks = \"abcde\"\n",
    "putStrLn $ \"The sequence is \" ++ concatMap show (factBase 4 (96 - 1)) ++ \".\"\n",
    "putStrLn $ \"Reverse the given marks: \" ++ reverse marks ++ \".\"\n",
    "putStrLn $ \"Apply the sequence to get \" ++ lexPerm 96 (reverse marks) ++ \" and reverse the result.\"\n",
    "putStrLn $ \"The 96th permutation is \" ++ revLexPerm 96 marks ++ \".\""
   ]
  },
  {
   "cell_type": "markdown",
   "metadata": {},
   "source": [
    "### 2b. Find the number of ways of putting <span style=\"color:#5050ff\">$4$</span> *copies* of a French book and <span style=\"color:#5050ff\">$4$</span> *different* German books in <span style=\"color:#30c030\">$4$</span> different boxes if each box holds <span style=\"color:#ff5050\">$2$</span> books."
   ]
  },
  {
   "cell_type": "markdown",
   "metadata": {},
   "source": [
    "The French books can be distributed in essentially three different ways:\n",
    "1. All in different boxes (one in each box) $(1,1,1,1)$. There is only one way of doing this.  \n",
    " In this case, the German books can be distributed in $4!$ different ways.\n",
    "2. Two French books in the same box and the other two in two different boxes $(2,1,1)$. This can be done in $\\binom 4 3$ ways.  \n",
    " In this case, the German books can be distributed in $4 \\times 3 = 12$ ways.\n",
    "3. Two French books in one box, the other two in another box $(2,2)$. This can be done in $\\binom 4 2$ ways.  \n",
    " In this case, the German books can be distributed in $\\binom 4 2$ ways.\n",
    "\n",
    "Thus, the total number of distributions is $$4! + \\binom 4 3 \\times 12 + {\\binom 4 2}^2.$$"
   ]
  },
  {
   "cell_type": "code",
   "execution_count": 7,
   "metadata": {},
   "outputs": [
    {
     "data": {
      "text/plain": [
       "Answer: 108"
      ]
     },
     "metadata": {},
     "output_type": "display_data"
    }
   ],
   "source": [
    "putStrLn $ \"Answer: \" ++ show (fact 4 + 4 `comb` 3 * 12 + 4 `comb` 2 ^ 2)"
   ]
  },
  {
   "cell_type": "markdown",
   "metadata": {},
   "source": [
    "---"
   ]
  },
  {
   "cell_type": "markdown",
   "metadata": {},
   "source": [
    "### 3a. Find the <span style=\"color:#5050ff\">$111$<sup>th</sup></span> permutation of <span style=\"color:#30c030\">$1, 2, 3, 4, 5$</span> in <span style=\"color:#ff5050\">Fike's order</span>."
   ]
  },
  {
   "cell_type": "code",
   "execution_count": 8,
   "metadata": {},
   "outputs": [
    {
     "data": {
      "text/plain": [
       "The sequence is 0014."
      ]
     },
     "metadata": {},
     "output_type": "display_data"
    },
    {
     "data": {
      "text/plain": [
       "The 111th permutation is 34215."
      ]
     },
     "metadata": {},
     "output_type": "display_data"
    }
   ],
   "source": [
    "putStrLn $ \"The sequence is \" ++ concatMap show (fikeSeq 111 5) ++ \".\"\n",
    "putStrLn $ \"The 111th permutation is \" ++ concatMap show (fikePerm 111 [1..5]) ++ \".\""
   ]
  },
  {
   "cell_type": "markdown",
   "metadata": {},
   "source": [
    "### 3b. Find the number of positive common factors of <span style=\"color:#5050ff\">$3600$</span> and <span style=\"color:#5050ff\">$4500$</span>."
   ]
  },
  {
   "cell_type": "code",
   "execution_count": 9,
   "metadata": {},
   "outputs": [
    {
     "data": {
      "text/plain": [
       "27"
      ]
     },
     "metadata": {},
     "output_type": "display_data"
    }
   ],
   "source": [
    "length $ filter (\\n -> 3600 `mod` n == 0 && 4500 `mod` n == 0) [1..3600]"
   ]
  },
  {
   "cell_type": "code",
   "execution_count": 10,
   "metadata": {},
   "outputs": [
    {
     "data": {
      "text/plain": [
       "[2,2,2,2,3,3,5,5]"
      ]
     },
     "metadata": {},
     "output_type": "display_data"
    },
    {
     "data": {
      "text/plain": [
       "[2,2,3,3,5,5,5]"
      ]
     },
     "metadata": {},
     "output_type": "display_data"
    }
   ],
   "source": [
    "factorise 1 = []\n",
    "factorise n = d : factorise (div n d) where\n",
    "    d = head $ filter (\\d -> mod n d == 0) [2..]\n",
    "\n",
    "print $ factorise 3600\n",
    "print $ factorise 4500"
   ]
  },
  {
   "cell_type": "markdown",
   "metadata": {},
   "source": [
    "Since $3600 = 2^4 \\times 3^2 \\times 5^2$ and $4500 = 2^2 \\times 3^2 \\times 5^3$, any common factor of $3600$ and $4500$ must be of the form $2^a \\times 3^b \\times 5^c$ where $0 \\le a, b, c \\le 2$.\n",
    "\n",
    "Since each of $a$, $b$, and $c$ independently have three possible values, the total number of possibilities is $\\boxed{3^3 = 27}$."
   ]
  },
  {
   "cell_type": "markdown",
   "metadata": {},
   "source": [
    "---"
   ]
  },
  {
   "cell_type": "markdown",
   "metadata": {},
   "source": [
    "### 4a. Find the <span style=\"color:#5050ff\">$102$<sup>nd</sup></span> permutation of <span style=\"color:#30c030\">$0, 1, 2, 3, 4$</span> in <span style=\"color:#ff5050\">reverse lexicographical order</span>."
   ]
  },
  {
   "cell_type": "code",
   "execution_count": 11,
   "metadata": {},
   "outputs": [
    {
     "data": {
      "text/plain": [
       "The sequence is 4021."
      ]
     },
     "metadata": {},
     "output_type": "display_data"
    },
    {
     "data": {
      "text/plain": [
       "Reverse the given marks: 43210."
      ]
     },
     "metadata": {},
     "output_type": "display_data"
    },
    {
     "data": {
      "text/plain": [
       "Apply the sequence to get 04123 and reverse the result."
      ]
     },
     "metadata": {},
     "output_type": "display_data"
    },
    {
     "data": {
      "text/plain": [
       "The 102nd permutation is 32140."
      ]
     },
     "metadata": {},
     "output_type": "display_data"
    }
   ],
   "source": [
    "marks = ['0'..'4']\n",
    "putStrLn $ \"The sequence is \" ++ concatMap show (factBase 4 (102 - 1)) ++ \".\"\n",
    "putStrLn $ \"Reverse the given marks: \" ++ reverse marks ++ \".\"\n",
    "putStrLn $ \"Apply the sequence to get \" ++ lexPerm 102 (reverse marks) ++ \" and reverse the result.\"\n",
    "putStrLn $ \"The 102nd permutation is \" ++ revLexPerm 102 marks ++ \".\""
   ]
  },
  {
   "cell_type": "markdown",
   "metadata": {},
   "source": [
    "### 4b. If <span style=\"color:#5050ff\">$n = p_1^{m_1} p_2^{m_2} \\cdots p_k^{m_k}$</span>, where <span style=\"color:#30c030\">$p_1, \\ldots, p_k$</span> are distinct primes, find the number of ways to factorise <span style=\"color:#5050ff\">$n$</span> into a product of two coprime integers greater than <span style=\"color:#ff5050\">$1$</span>."
   ]
  },
  {
   "cell_type": "markdown",
   "metadata": {},
   "source": [
    "Let the factors be $a$ and $b$. Since $a$ and $b$ must be coprime, they must not have any common factor, and in particular, no common prime factor. Thus, if $p_i$ is a factor $a$, then it is not a factor of $b$, which means that $p_i^{m_i}$ must be a factor of $a$.\n",
    "\n",
    "The number of possible values of $a$ is therefore the number of non-empty subsets $\\{p_1, \\ldots, p_2\\}$ (non-empty since $a > 1$), and for each such $a$, there is a unique $b = n/a$. Since $b > 1$ as well, $a \\ne n$, thus we want proper non-empty subsets.\n",
    "\n",
    "Therefore, the number of such factorisations is $\\boxed{2^k - 2}$."
   ]
  },
  {
   "cell_type": "markdown",
   "metadata": {},
   "source": [
    "#### Example"
   ]
  },
  {
   "cell_type": "code",
   "execution_count": 12,
   "metadata": {},
   "outputs": [
    {
     "data": {
      "text/plain": [
       "142"
      ]
     },
     "metadata": {},
     "output_type": "display_data"
    },
    {
     "data": {
      "text/plain": [
       "14"
      ]
     },
     "metadata": {},
     "output_type": "display_data"
    },
    {
     "data": {
      "text/plain": [
       "True"
      ]
     },
     "metadata": {},
     "output_type": "display_data"
    }
   ],
   "source": [
    "n = 2^5 * 5^2 * 7^1 * 11^3\n",
    "facts = map (\\a -> (a, div n a)) $ filter ((== 0) . (n `mod`)) [2 .. n - 1]\n",
    "coprimeFacts = filter (\\(a, b) -> gcd a b == 1) facts\n",
    "print $ length facts\n",
    "print $ length coprimeFacts\n",
    "print $ length coprimeFacts == 2^4 - 2"
   ]
  },
  {
   "cell_type": "markdown",
   "metadata": {},
   "source": [
    "---"
   ]
  },
  {
   "cell_type": "markdown",
   "metadata": {},
   "source": [
    "### 5a. Find the <span style=\"color:#5050ff\">$101$<sup>st</sup></span> permutation of <span style=\"color:#30c030\">$1, 2, 3, 4, 5$</span> in <span style=\"color:#ff5050\">Fike's order</span>."
   ]
  },
  {
   "cell_type": "code",
   "execution_count": 13,
   "metadata": {},
   "outputs": [
    {
     "data": {
      "text/plain": [
       "The sequence is 0034."
      ]
     },
     "metadata": {},
     "output_type": "display_data"
    },
    {
     "data": {
      "text/plain": [
       "The 101st permutation is 31245."
      ]
     },
     "metadata": {},
     "output_type": "display_data"
    }
   ],
   "source": [
    "putStrLn $ \"The sequence is \" ++ concatMap show (fikeSeq 101 5) ++ \".\"\n",
    "putStrLn $ \"The 101st permutation is \" ++ concatMap show (fikePerm 101 [1..5]) ++ \".\""
   ]
  },
  {
   "cell_type": "markdown",
   "metadata": {},
   "source": [
    "### 5b. In how many different ways can I assign <span style=\"color:#5050ff\">$5$</span> marks to each of <span style=\"color:#5050ff\">$5$</span> questions if each question has two subquestions and no subquestion must receive less than <span style=\"color:#ff5050\">$2$</span> marks, given that <span style=\"color:#30c030\">$\\frac 1 2$</span> marks are allowed?"
   ]
  },
  {
   "cell_type": "markdown",
   "metadata": {},
   "source": [
    "For each subquestion of any question, I have to assign at least $2$ marks and since the total of the two subquestions should be $5$, I can assign at most $3$ marks to it. So the possible values are $2$, $2.5$, and $3$, with the other subquestion necessarily being assigned the remaining marks. Thus, there are three choices of assignment of marks for each question, and as there are five questions, the total number of ways I can assign marks is $\\boxed{3^5 = 243}$."
   ]
  }
 ],
 "metadata": {
  "kernelspec": {
   "display_name": "Haskell",
   "language": "haskell",
   "name": "haskell"
  },
  "language_info": {
   "codemirror_mode": "ihaskell",
   "file_extension": ".hs",
   "name": "haskell",
   "pygments_lexer": "Haskell",
   "version": "8.6.5"
  }
 },
 "nbformat": 4,
 "nbformat_minor": 2
}
